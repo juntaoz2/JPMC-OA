{
 "cells": [
  {
   "cell_type": "code",
   "execution_count": 1,
   "metadata": {},
   "outputs": [],
   "source": [
    "import pandas as pd\n",
    "import numpy as np\n",
    "import matplotlib.pyplot as plt\n",
    "import seaborn as sns"
   ]
  },
  {
   "cell_type": "markdown",
   "metadata": {},
   "source": [
    "import txt file to csv file"
   ]
  },
  {
   "cell_type": "code",
   "execution_count": 2,
   "metadata": {},
   "outputs": [],
   "source": [
    "raw_data = pd.read_csv('/Users/juntao/Downloads/data.txt', sep='|')"
   ]
  },
  {
   "cell_type": "code",
   "execution_count": 3,
   "metadata": {},
   "outputs": [
    {
     "data": {
      "text/html": [
       "<div>\n",
       "<style scoped>\n",
       "    .dataframe tbody tr th:only-of-type {\n",
       "        vertical-align: middle;\n",
       "    }\n",
       "\n",
       "    .dataframe tbody tr th {\n",
       "        vertical-align: top;\n",
       "    }\n",
       "\n",
       "    .dataframe thead th {\n",
       "        text-align: right;\n",
       "    }\n",
       "</style>\n",
       "<table border=\"1\" class=\"dataframe\">\n",
       "  <thead>\n",
       "    <tr style=\"text-align: right;\">\n",
       "      <th></th>\n",
       "      <th>AP</th>\n",
       "      <th>variable</th>\n",
       "      <th>value</th>\n",
       "    </tr>\n",
       "  </thead>\n",
       "  <tbody>\n",
       "    <tr>\n",
       "      <th>0</th>\n",
       "      <td>0</td>\n",
       "      <td>score</td>\n",
       "      <td>65</td>\n",
       "    </tr>\n",
       "    <tr>\n",
       "      <th>1</th>\n",
       "      <td>1</td>\n",
       "      <td>score</td>\n",
       "      <td>98</td>\n",
       "    </tr>\n",
       "    <tr>\n",
       "      <th>2</th>\n",
       "      <td>2</td>\n",
       "      <td>score</td>\n",
       "      <td>85</td>\n",
       "    </tr>\n",
       "    <tr>\n",
       "      <th>3</th>\n",
       "      <td>3</td>\n",
       "      <td>score</td>\n",
       "      <td>83</td>\n",
       "    </tr>\n",
       "    <tr>\n",
       "      <th>4</th>\n",
       "      <td>4</td>\n",
       "      <td>score</td>\n",
       "      <td>115</td>\n",
       "    </tr>\n",
       "  </tbody>\n",
       "</table>\n",
       "</div>"
      ],
      "text/plain": [
       "  AP variable value\n",
       "0  0    score    65\n",
       "1  1    score    98\n",
       "2  2    score    85\n",
       "3  3    score    83\n",
       "4  4    score   115"
      ]
     },
     "execution_count": 3,
     "metadata": {},
     "output_type": "execute_result"
    }
   ],
   "source": [
    "raw_data.head()"
   ]
  },
  {
   "cell_type": "markdown",
   "metadata": {},
   "source": [
    "Rename the variable and its data type."
   ]
  },
  {
   "cell_type": "code",
   "execution_count": 4,
   "metadata": {},
   "outputs": [
    {
     "name": "stderr",
     "output_type": "stream",
     "text": [
      "<ipython-input-4-7b4a7d8e4b22>:2: SettingWithCopyWarning: \n",
      "A value is trying to be set on a copy of a slice from a DataFrame.\n",
      "Try using .loc[row_indexer,col_indexer] = value instead\n",
      "\n",
      "See the caveats in the documentation: https://pandas.pydata.org/pandas-docs/stable/user_guide/indexing.html#returning-a-view-versus-a-copy\n",
      "  score['value'] = score['value'].astype('int')\n"
     ]
    }
   ],
   "source": [
    "score = raw_data[raw_data['variable'] == 'score']\n",
    "score['value'] = score['value'].astype('int')\n",
    "score.reset_index(drop=True, inplace=True)"
   ]
  },
  {
   "cell_type": "code",
   "execution_count": 5,
   "metadata": {},
   "outputs": [
    {
     "name": "stderr",
     "output_type": "stream",
     "text": [
      "<ipython-input-5-edecb3036012>:2: SettingWithCopyWarning: \n",
      "A value is trying to be set on a copy of a slice from a DataFrame.\n",
      "Try using .loc[row_indexer,col_indexer] = value instead\n",
      "\n",
      "See the caveats in the documentation: https://pandas.pydata.org/pandas-docs/stable/user_guide/indexing.html#returning-a-view-versus-a-copy\n",
      "  i['value'] = i['value'].str.strip(\"\\'\").astype('float')\n"
     ]
    }
   ],
   "source": [
    "i = raw_data[raw_data['variable'] == 'i']\n",
    "i['value'] = i['value'].str.strip(\"\\'\").astype('float')\n",
    "i.reset_index(drop=True, inplace=True)"
   ]
  },
  {
   "cell_type": "code",
   "execution_count": 6,
   "metadata": {},
   "outputs": [
    {
     "name": "stderr",
     "output_type": "stream",
     "text": [
      "<ipython-input-6-da4d2826f350>:2: SettingWithCopyWarning: \n",
      "A value is trying to be set on a copy of a slice from a DataFrame.\n",
      "Try using .loc[row_indexer,col_indexer] = value instead\n",
      "\n",
      "See the caveats in the documentation: https://pandas.pydata.org/pandas-docs/stable/user_guide/indexing.html#returning-a-view-versus-a-copy\n",
      "  a['value'] = a['value'].str.strip(\"\\'\").astype('int')\n"
     ]
    }
   ],
   "source": [
    "a = raw_data[raw_data['variable'] == 'a']\n",
    "a['value'] = a['value'].str.strip(\"\\'\").astype('int')\n",
    "a.reset_index(drop=True, inplace=True)"
   ]
  },
  {
   "cell_type": "code",
   "execution_count": 7,
   "metadata": {},
   "outputs": [
    {
     "name": "stderr",
     "output_type": "stream",
     "text": [
      "<ipython-input-7-c91fc387520e>:2: SettingWithCopyWarning: \n",
      "A value is trying to be set on a copy of a slice from a DataFrame.\n",
      "Try using .loc[row_indexer,col_indexer] = value instead\n",
      "\n",
      "See the caveats in the documentation: https://pandas.pydata.org/pandas-docs/stable/user_guide/indexing.html#returning-a-view-versus-a-copy\n",
      "  h['value'] = h['value'].str.strip(\"\\'\").astype('int')\n"
     ]
    }
   ],
   "source": [
    "h = raw_data[raw_data['variable'] == 'h']\n",
    "h['value'] = h['value'].str.strip(\"\\'\").astype('int')\n",
    "h.reset_index(drop=True, inplace=True)"
   ]
  },
  {
   "cell_type": "code",
   "execution_count": 8,
   "metadata": {},
   "outputs": [
    {
     "data": {
      "text/plain": [
       "1    341\n",
       "0     93\n",
       "Name: value, dtype: int64"
      ]
     },
     "execution_count": 8,
     "metadata": {},
     "output_type": "execute_result"
    }
   ],
   "source": [
    "h['value'].value_counts() "
   ]
  },
  {
   "cell_type": "markdown",
   "metadata": {},
   "source": [
    "Most of the mothers have completed high school."
   ]
  },
  {
   "cell_type": "code",
   "execution_count": 9,
   "metadata": {},
   "outputs": [
    {
     "name": "stderr",
     "output_type": "stream",
     "text": [
      "<ipython-input-9-cf0a91190eca>:2: SettingWithCopyWarning: \n",
      "A value is trying to be set on a copy of a slice from a DataFrame.\n",
      "Try using .loc[row_indexer,col_indexer] = value instead\n",
      "\n",
      "See the caveats in the documentation: https://pandas.pydata.org/pandas-docs/stable/user_guide/indexing.html#returning-a-view-versus-a-copy\n",
      "  w['value'] = w['value'].str.strip(\"\\'\").astype('int')\n"
     ]
    }
   ],
   "source": [
    "w = raw_data[raw_data['variable'] == 'w']\n",
    "w['value'] = w['value'].str.strip(\"\\'\").astype('int')\n",
    "w.reset_index(drop=True, inplace=True)"
   ]
  },
  {
   "cell_type": "code",
   "execution_count": 10,
   "metadata": {},
   "outputs": [
    {
     "data": {
      "text/plain": [
       "4    205\n",
       "2     96\n",
       "1     77\n",
       "3     56\n",
       "Name: value, dtype: int64"
      ]
     },
     "execution_count": 10,
     "metadata": {},
     "output_type": "execute_result"
    }
   ],
   "source": [
    "w['value'].value_counts() "
   ]
  },
  {
   "cell_type": "markdown",
   "metadata": {},
   "source": [
    "Nearly 50% of mom worked full time in first year of child's life. 20% of mom worked second or third year of child's life. Only less than 20% of mom did not worked in the first three year of child's life. I do not think OneHotEncoder is necessary in this case because higher number means more work experience (there is a rank in it)."
   ]
  },
  {
   "cell_type": "code",
   "execution_count": 11,
   "metadata": {},
   "outputs": [
    {
     "name": "stdout",
     "output_type": "stream",
     "text": [
      "<class 'pandas.core.frame.DataFrame'>\n",
      "RangeIndex: 434 entries, 0 to 433\n",
      "Data columns (total 5 columns):\n",
      " #   Column      Non-Null Count  Dtype  \n",
      "---  ------      --------------  -----  \n",
      " 0   Score       434 non-null    int64  \n",
      " 1   IQ          434 non-null    float64\n",
      " 2   Work        434 non-null    int64  \n",
      " 3   Age         434 non-null    int64  \n",
      " 4   HighSchool  434 non-null    int64  \n",
      "dtypes: float64(1), int64(4)\n",
      "memory usage: 17.1 KB\n"
     ]
    }
   ],
   "source": [
    "data=pd.concat({'Score':score['value'],'IQ':i['value'], 'Work':w['value'], 'Age':a['value'], 'HighSchool':h['value']} ,axis=1)\n",
    "data.info()"
   ]
  },
  {
   "cell_type": "markdown",
   "metadata": {},
   "source": [
    "Exploratory analysis"
   ]
  },
  {
   "cell_type": "code",
   "execution_count": 12,
   "metadata": {},
   "outputs": [
    {
     "data": {
      "text/html": [
       "<div>\n",
       "<style scoped>\n",
       "    .dataframe tbody tr th:only-of-type {\n",
       "        vertical-align: middle;\n",
       "    }\n",
       "\n",
       "    .dataframe tbody tr th {\n",
       "        vertical-align: top;\n",
       "    }\n",
       "\n",
       "    .dataframe thead th {\n",
       "        text-align: right;\n",
       "    }\n",
       "</style>\n",
       "<table border=\"1\" class=\"dataframe\">\n",
       "  <thead>\n",
       "    <tr style=\"text-align: right;\">\n",
       "      <th></th>\n",
       "      <th>Score</th>\n",
       "      <th>IQ</th>\n",
       "      <th>Work</th>\n",
       "      <th>Age</th>\n",
       "      <th>HighSchool</th>\n",
       "    </tr>\n",
       "  </thead>\n",
       "  <tbody>\n",
       "    <tr>\n",
       "      <th>count</th>\n",
       "      <td>434.000000</td>\n",
       "      <td>434.000000</td>\n",
       "      <td>434.000000</td>\n",
       "      <td>434.000000</td>\n",
       "      <td>434.000000</td>\n",
       "    </tr>\n",
       "    <tr>\n",
       "      <th>mean</th>\n",
       "      <td>86.797235</td>\n",
       "      <td>100.000000</td>\n",
       "      <td>2.896313</td>\n",
       "      <td>22.785714</td>\n",
       "      <td>0.785714</td>\n",
       "    </tr>\n",
       "    <tr>\n",
       "      <th>std</th>\n",
       "      <td>20.410688</td>\n",
       "      <td>15.000000</td>\n",
       "      <td>1.181394</td>\n",
       "      <td>2.701070</td>\n",
       "      <td>0.410799</td>\n",
       "    </tr>\n",
       "    <tr>\n",
       "      <th>min</th>\n",
       "      <td>20.000000</td>\n",
       "      <td>71.037405</td>\n",
       "      <td>1.000000</td>\n",
       "      <td>17.000000</td>\n",
       "      <td>0.000000</td>\n",
       "    </tr>\n",
       "    <tr>\n",
       "      <th>25%</th>\n",
       "      <td>74.000000</td>\n",
       "      <td>88.660321</td>\n",
       "      <td>2.000000</td>\n",
       "      <td>21.000000</td>\n",
       "      <td>1.000000</td>\n",
       "    </tr>\n",
       "    <tr>\n",
       "      <th>50%</th>\n",
       "      <td>90.000000</td>\n",
       "      <td>97.915254</td>\n",
       "      <td>3.000000</td>\n",
       "      <td>23.000000</td>\n",
       "      <td>1.000000</td>\n",
       "    </tr>\n",
       "    <tr>\n",
       "      <th>75%</th>\n",
       "      <td>102.000000</td>\n",
       "      <td>110.272742</td>\n",
       "      <td>4.000000</td>\n",
       "      <td>25.000000</td>\n",
       "      <td>1.000000</td>\n",
       "    </tr>\n",
       "    <tr>\n",
       "      <th>max</th>\n",
       "      <td>144.000000</td>\n",
       "      <td>138.893106</td>\n",
       "      <td>4.000000</td>\n",
       "      <td>29.000000</td>\n",
       "      <td>1.000000</td>\n",
       "    </tr>\n",
       "  </tbody>\n",
       "</table>\n",
       "</div>"
      ],
      "text/plain": [
       "            Score          IQ        Work         Age  HighSchool\n",
       "count  434.000000  434.000000  434.000000  434.000000  434.000000\n",
       "mean    86.797235  100.000000    2.896313   22.785714    0.785714\n",
       "std     20.410688   15.000000    1.181394    2.701070    0.410799\n",
       "min     20.000000   71.037405    1.000000   17.000000    0.000000\n",
       "25%     74.000000   88.660321    2.000000   21.000000    1.000000\n",
       "50%     90.000000   97.915254    3.000000   23.000000    1.000000\n",
       "75%    102.000000  110.272742    4.000000   25.000000    1.000000\n",
       "max    144.000000  138.893106    4.000000   29.000000    1.000000"
      ]
     },
     "execution_count": 12,
     "metadata": {},
     "output_type": "execute_result"
    }
   ],
   "source": [
    "data.describe()"
   ]
  },
  {
   "cell_type": "code",
   "execution_count": 13,
   "metadata": {},
   "outputs": [
    {
     "data": {
      "text/plain": [
       "<matplotlib.axes._subplots.AxesSubplot at 0x7fe6a6d06880>"
      ]
     },
     "execution_count": 13,
     "metadata": {},
     "output_type": "execute_result"
    },
    {
     "data": {
      "image/png": "[encoded data removed]",
      "text/plain": [
       "<Figure size 1440x1440 with 2 Axes>"
      ]
     },
     "metadata": {
      "needs_background": "light"
     },
     "output_type": "display_data"
    }
   ],
   "source": [
    "fig, ax = plt.subplots(figsize=(20,20))\n",
    "sns.heatmap(data.corr(), vmin=-1, vmax=1, cmap=sns.diverging_palette(20, 220, as_cmap=True), annot=True)"
   ]
  },
  {
   "cell_type": "markdown",
   "metadata": {},
   "source": [
    "Based on my observation from the correlation graph above, Score is highly correlated IQ and HighSchool and they have a darker blue color. Whereas work and age has lighter blue color with Score. "
   ]
  },
  {
   "cell_type": "code",
   "execution_count": 14,
   "metadata": {},
   "outputs": [
    {
     "data": {
      "text/plain": [
       "array([[<matplotlib.axes._subplots.AxesSubplot object at 0x7fe6a7be9550>,\n",
       "        <matplotlib.axes._subplots.AxesSubplot object at 0x7fe6a7c12a00>],\n",
       "       [<matplotlib.axes._subplots.AxesSubplot object at 0x7fe6a7c3ee80>,\n",
       "        <matplotlib.axes._subplots.AxesSubplot object at 0x7fe6a7c76310>],\n",
       "       [<matplotlib.axes._subplots.AxesSubplot object at 0x7fe6a7ca2760>,\n",
       "        <matplotlib.axes._subplots.AxesSubplot object at 0x7fe6a7cd0c40>]],\n",
       "      dtype=object)"
      ]
     },
     "execution_count": 14,
     "metadata": {},
     "output_type": "execute_result"
    },
    {
     "data": {
      "image/png": "[encoded data removed]",
      "text/plain": [
       "<Figure size 1440x1440 with 6 Axes>"
      ]
     },
     "metadata": {
      "needs_background": "light"
     },
     "output_type": "display_data"
    }
   ],
   "source": [
    "data.hist(figsize = (20,20),bins = 50)\n",
    "#we have messy data with slightly different scales"
   ]
  },
  {
   "cell_type": "code",
   "execution_count": 15,
   "metadata": {},
   "outputs": [],
   "source": [
    "#Also, take a look at the missing values！\n",
    "for col in data:\n",
    "    if data[col].isna().sum()>0:\n",
    "        print(col,data[col].isna().sum())"
   ]
  },
  {
   "cell_type": "markdown",
   "metadata": {},
   "source": [
    "There is no missing value in this dataset"
   ]
  },
  {
   "cell_type": "code",
   "execution_count": 16,
   "metadata": {},
   "outputs": [
    {
     "data": {
      "image/png": "[encoded data removed]",
      "text/plain": [
       "<Figure size 432x288 with 1 Axes>"
      ]
     },
     "metadata": {
      "needs_background": "light"
     },
     "output_type": "display_data"
    }
   ],
   "source": [
    "x1=data['IQ'].values\n",
    "y=data['Score'].values\n",
    "plt.scatter(x1, y)\n",
    "plt.xlabel(\"IQ\")\n",
    "plt.ylabel(\"Score\")\n",
    "plt.show()"
   ]
  },
  {
   "cell_type": "code",
   "execution_count": 17,
   "metadata": {},
   "outputs": [
    {
     "name": "stdout",
     "output_type": "stream",
     "text": [
      "Score          89.319648\n",
      "IQ            102.212049\n",
      "Work            3.052786\n",
      "Age            23.087977\n",
      "HighSchool      1.000000\n",
      "dtype: float64 Score         77.548387\n",
      "IQ            91.889152\n",
      "Work           2.322581\n",
      "Age           21.677419\n",
      "HighSchool     0.000000\n",
      "dtype: float64\n"
     ]
    }
   ],
   "source": [
    "High_School_completed = data[data['HighSchool'] == 1].mean()\n",
    "High_School_imcompleted = data[data['HighSchool'] == 0].mean()\n",
    "print(High_School_completed,High_School_imcompleted )"
   ]
  },
  {
   "cell_type": "markdown",
   "metadata": {},
   "source": [
    "On avergae, we see that if mother completed high school, then their child on average has higher score. High school completion on average is also associated with higher IQ and more work experience and higher age. "
   ]
  },
  {
   "cell_type": "code",
   "execution_count": 18,
   "metadata": {},
   "outputs": [
    {
     "data": {
      "text/html": [
       "<div>\n",
       "<style scoped>\n",
       "    .dataframe tbody tr th:only-of-type {\n",
       "        vertical-align: middle;\n",
       "    }\n",
       "\n",
       "    .dataframe tbody tr th {\n",
       "        vertical-align: top;\n",
       "    }\n",
       "\n",
       "    .dataframe thead th {\n",
       "        text-align: right;\n",
       "    }\n",
       "</style>\n",
       "<table border=\"1\" class=\"dataframe\">\n",
       "  <thead>\n",
       "    <tr style=\"text-align: right;\">\n",
       "      <th></th>\n",
       "      <th>AgeBand</th>\n",
       "      <th>Score</th>\n",
       "    </tr>\n",
       "  </thead>\n",
       "  <tbody>\n",
       "    <tr>\n",
       "      <th>0</th>\n",
       "      <td>(16.988, 21.0]</td>\n",
       "      <td>84.608108</td>\n",
       "    </tr>\n",
       "    <tr>\n",
       "      <th>1</th>\n",
       "      <td>(21.0, 25.0]</td>\n",
       "      <td>87.134615</td>\n",
       "    </tr>\n",
       "    <tr>\n",
       "      <th>2</th>\n",
       "      <td>(25.0, 29.0]</td>\n",
       "      <td>90.051282</td>\n",
       "    </tr>\n",
       "  </tbody>\n",
       "</table>\n",
       "</div>"
      ],
      "text/plain": [
       "          AgeBand      Score\n",
       "0  (16.988, 21.0]  84.608108\n",
       "1    (21.0, 25.0]  87.134615\n",
       "2    (25.0, 29.0]  90.051282"
      ]
     },
     "execution_count": 18,
     "metadata": {},
     "output_type": "execute_result"
    }
   ],
   "source": [
    "data['AgeBand'] = pd.cut(data['Age'], 3)\n",
    "data[['AgeBand', 'Score']].groupby(['AgeBand'], as_index=False).mean().sort_values(by='AgeBand', ascending=True)"
   ]
  },
  {
   "cell_type": "markdown",
   "metadata": {},
   "source": [
    "Higher age correspondes to higher average score. "
   ]
  },
  {
   "cell_type": "code",
   "execution_count": 19,
   "metadata": {},
   "outputs": [
    {
     "name": "stderr",
     "output_type": "stream",
     "text": [
      "<ipython-input-19-74411c9fecf5>:1: FutureWarning: Dropping of nuisance columns in DataFrame reductions (with 'numeric_only=None') is deprecated; in a future version this will raise TypeError.  Select only valid columns before calling the reduction.\n",
      "  work1 = data[data['Work'] == 1].mean()\n",
      "<ipython-input-19-74411c9fecf5>:2: FutureWarning: Dropping of nuisance columns in DataFrame reductions (with 'numeric_only=None') is deprecated; in a future version this will raise TypeError.  Select only valid columns before calling the reduction.\n",
      "  work2 = data[data['Work'] == 2].mean()\n",
      "<ipython-input-19-74411c9fecf5>:3: FutureWarning: Dropping of nuisance columns in DataFrame reductions (with 'numeric_only=None') is deprecated; in a future version this will raise TypeError.  Select only valid columns before calling the reduction.\n",
      "  work3= data[data['Work'] == 3].mean()\n",
      "<ipython-input-19-74411c9fecf5>:4: FutureWarning: Dropping of nuisance columns in DataFrame reductions (with 'numeric_only=None') is deprecated; in a future version this will raise TypeError.  Select only valid columns before calling the reduction.\n",
      "  work4 = data[data['Work'] == 4].mean()\n"
     ]
    }
   ],
   "source": [
    "work1 = data[data['Work'] == 1].mean()\n",
    "work2 = data[data['Work'] == 2].mean()\n",
    "work3= data[data['Work'] == 3].mean()\n",
    "work4 = data[data['Work'] == 4].mean()"
   ]
  },
  {
   "cell_type": "code",
   "execution_count": 20,
   "metadata": {},
   "outputs": [
    {
     "name": "stdout",
     "output_type": "stream",
     "text": [
      "mother did not work in first three years of child’s life 82.0\n",
      "mother worked in second or third year of child’s life 85.85416666666667\n",
      "mother worked part-time in first year of child’s life 93.5\n",
      "mother worked full-time in first year of child’s life 87.20975609756097\n"
     ]
    }
   ],
   "source": [
    "print('mother did not work in first three years of child’s life', work1['Score'])\n",
    "print('mother worked in second or third year of child’s life', work2['Score'])\n",
    "print('mother worked part-time in first year of child’s life', work3['Score'])\n",
    "print('mother worked full-time in first year of child’s life', work4['Score'])"
   ]
  },
  {
   "cell_type": "markdown",
   "metadata": {},
   "source": [
    "On averge, mother who did not work in first 3 years of child's life has lower score than mother's who worked in the first three years. "
   ]
  },
  {
   "cell_type": "markdown",
   "metadata": {},
   "source": [
    "let's do standardization! "
   ]
  },
  {
   "cell_type": "code",
   "execution_count": 21,
   "metadata": {},
   "outputs": [],
   "source": [
    "from sklearn.preprocessing import StandardScaler\n",
    "scaler = StandardScaler()\n",
    "raw_X = data[['Age', 'Work', 'HighSchool', 'IQ']]\n",
    "cols = raw_X.columns\n",
    "scaler.fit(raw_X)\n",
    "X = scaler.transform(raw_X)"
   ]
  },
  {
   "cell_type": "code",
   "execution_count": 23,
   "metadata": {},
   "outputs": [
    {
     "data": {
      "text/plain": [
       "array([[<matplotlib.axes._subplots.AxesSubplot object at 0x7fe6a6cf7a90>,\n",
       "        <matplotlib.axes._subplots.AxesSubplot object at 0x7fe6a89d5f70>],\n",
       "       [<matplotlib.axes._subplots.AxesSubplot object at 0x7fe6a8abf1c0>,\n",
       "        <matplotlib.axes._subplots.AxesSubplot object at 0x7fe6a8aeb610>]],\n",
       "      dtype=object)"
      ]
     },
     "execution_count": 23,
     "metadata": {},
     "output_type": "execute_result"
    },
    {
     "data": {
      "image/png": "[encoded data removed]",
      "text/plain": [
       "<Figure size 432x288 with 4 Axes>"
      ]
     },
     "metadata": {
      "needs_background": "light"
     },
     "output_type": "display_data"
    }
   ],
   "source": [
    "#convert X_train, X_test to dataframe because it would be easier for us to visualize\n",
    "X = pd.DataFrame(X, columns = cols)\n",
    "X.hist()"
   ]
  },
  {
   "cell_type": "markdown",
   "metadata": {},
   "source": [
    "Building Model"
   ]
  },
  {
   "cell_type": "code",
   "execution_count": 24,
   "metadata": {},
   "outputs": [],
   "source": [
    "X['Score'] = data['Score']"
   ]
  },
  {
   "cell_type": "code",
   "execution_count": 25,
   "metadata": {},
   "outputs": [
    {
     "data": {
      "text/html": [
       "<div>\n",
       "<style scoped>\n",
       "    .dataframe tbody tr th:only-of-type {\n",
       "        vertical-align: middle;\n",
       "    }\n",
       "\n",
       "    .dataframe tbody tr th {\n",
       "        vertical-align: top;\n",
       "    }\n",
       "\n",
       "    .dataframe thead th {\n",
       "        text-align: right;\n",
       "    }\n",
       "</style>\n",
       "<table border=\"1\" class=\"dataframe\">\n",
       "  <thead>\n",
       "    <tr style=\"text-align: right;\">\n",
       "      <th></th>\n",
       "      <th>Age</th>\n",
       "      <th>Work</th>\n",
       "      <th>HighSchool</th>\n",
       "      <th>IQ</th>\n",
       "      <th>Score</th>\n",
       "    </tr>\n",
       "  </thead>\n",
       "  <tbody>\n",
       "    <tr>\n",
       "      <th>0</th>\n",
       "      <td>1.562029</td>\n",
       "      <td>0.935303</td>\n",
       "      <td>0.522233</td>\n",
       "      <td>1.409460</td>\n",
       "      <td>65</td>\n",
       "    </tr>\n",
       "    <tr>\n",
       "      <th>1</th>\n",
       "      <td>0.820727</td>\n",
       "      <td>0.935303</td>\n",
       "      <td>0.522233</td>\n",
       "      <td>-0.710026</td>\n",
       "      <td>98</td>\n",
       "    </tr>\n",
       "    <tr>\n",
       "      <th>2</th>\n",
       "      <td>1.562029</td>\n",
       "      <td>0.935303</td>\n",
       "      <td>0.522233</td>\n",
       "      <td>1.030732</td>\n",
       "      <td>85</td>\n",
       "    </tr>\n",
       "    <tr>\n",
       "      <th>3</th>\n",
       "      <td>0.820727</td>\n",
       "      <td>0.087868</td>\n",
       "      <td>0.522233</td>\n",
       "      <td>-0.036733</td>\n",
       "      <td>83</td>\n",
       "    </tr>\n",
       "    <tr>\n",
       "      <th>4</th>\n",
       "      <td>1.562029</td>\n",
       "      <td>0.935303</td>\n",
       "      <td>0.522233</td>\n",
       "      <td>-0.484177</td>\n",
       "      <td>115</td>\n",
       "    </tr>\n",
       "    <tr>\n",
       "      <th>...</th>\n",
       "      <td>...</td>\n",
       "      <td>...</td>\n",
       "      <td>...</td>\n",
       "      <td>...</td>\n",
       "      <td>...</td>\n",
       "    </tr>\n",
       "    <tr>\n",
       "      <th>429</th>\n",
       "      <td>-0.661877</td>\n",
       "      <td>0.935303</td>\n",
       "      <td>-1.914854</td>\n",
       "      <td>-1.009336</td>\n",
       "      <td>94</td>\n",
       "    </tr>\n",
       "    <tr>\n",
       "      <th>430</th>\n",
       "      <td>0.079425</td>\n",
       "      <td>0.935303</td>\n",
       "      <td>0.522233</td>\n",
       "      <td>-0.467847</td>\n",
       "      <td>76</td>\n",
       "    </tr>\n",
       "    <tr>\n",
       "      <th>431</th>\n",
       "      <td>0.450076</td>\n",
       "      <td>-0.759567</td>\n",
       "      <td>-1.914854</td>\n",
       "      <td>-0.343082</td>\n",
       "      <td>50</td>\n",
       "    </tr>\n",
       "    <tr>\n",
       "      <th>432</th>\n",
       "      <td>-0.661877</td>\n",
       "      <td>-0.759567</td>\n",
       "      <td>0.522233</td>\n",
       "      <td>-0.209800</td>\n",
       "      <td>88</td>\n",
       "    </tr>\n",
       "    <tr>\n",
       "      <th>433</th>\n",
       "      <td>0.820727</td>\n",
       "      <td>-0.759567</td>\n",
       "      <td>0.522233</td>\n",
       "      <td>-0.583784</td>\n",
       "      <td>70</td>\n",
       "    </tr>\n",
       "  </tbody>\n",
       "</table>\n",
       "<p>434 rows × 5 columns</p>\n",
       "</div>"
      ],
      "text/plain": [
       "          Age      Work  HighSchool        IQ  Score\n",
       "0    1.562029  0.935303    0.522233  1.409460     65\n",
       "1    0.820727  0.935303    0.522233 -0.710026     98\n",
       "2    1.562029  0.935303    0.522233  1.030732     85\n",
       "3    0.820727  0.087868    0.522233 -0.036733     83\n",
       "4    1.562029  0.935303    0.522233 -0.484177    115\n",
       "..        ...       ...         ...       ...    ...\n",
       "429 -0.661877  0.935303   -1.914854 -1.009336     94\n",
       "430  0.079425  0.935303    0.522233 -0.467847     76\n",
       "431  0.450076 -0.759567   -1.914854 -0.343082     50\n",
       "432 -0.661877 -0.759567    0.522233 -0.209800     88\n",
       "433  0.820727 -0.759567    0.522233 -0.583784     70\n",
       "\n",
       "[434 rows x 5 columns]"
      ]
     },
     "execution_count": 25,
     "metadata": {},
     "output_type": "execute_result"
    }
   ],
   "source": [
    "X"
   ]
  },
  {
   "cell_type": "markdown",
   "metadata": {},
   "source": [
    "Start building a single factor model"
   ]
  },
  {
   "cell_type": "code",
   "execution_count": 26,
   "metadata": {},
   "outputs": [
    {
     "name": "stderr",
     "output_type": "stream",
     "text": [
      "/Users/juntao/opt/anaconda3/lib/python3.8/site-packages/statsmodels/tsa/base/tsa_model.py:7: FutureWarning: pandas.Int64Index is deprecated and will be removed from pandas in a future version. Use pandas.Index with the appropriate dtype instead.\n",
      "  from pandas import (to_datetime, Int64Index, DatetimeIndex, Period,\n",
      "/Users/juntao/opt/anaconda3/lib/python3.8/site-packages/statsmodels/tsa/base/tsa_model.py:7: FutureWarning: pandas.Float64Index is deprecated and will be removed from pandas in a future version. Use pandas.Index with the appropriate dtype instead.\n",
      "  from pandas import (to_datetime, Int64Index, DatetimeIndex, Period,\n"
     ]
    },
    {
     "data": {
      "text/html": [
       "<table class=\"simpletable\">\n",
       "<caption>OLS Regression Results</caption>\n",
       "<tr>\n",
       "  <th>Dep. Variable:</th>          <td>Score</td>      <th>  R-squared:         </th> <td>   0.201</td>\n",
       "</tr>\n",
       "<tr>\n",
       "  <th>Model:</th>                   <td>OLS</td>       <th>  Adj. R-squared:    </th> <td>   0.199</td>\n",
       "</tr>\n",
       "<tr>\n",
       "  <th>Method:</th>             <td>Least Squares</td>  <th>  F-statistic:       </th> <td>   108.6</td>\n",
       "</tr>\n",
       "<tr>\n",
       "  <th>Date:</th>             <td>Sun, 22 Jan 2023</td> <th>  Prob (F-statistic):</th> <td>7.66e-23</td>\n",
       "</tr>\n",
       "<tr>\n",
       "  <th>Time:</th>                 <td>18:05:09</td>     <th>  Log-Likelihood:    </th> <td> -1875.6</td>\n",
       "</tr>\n",
       "<tr>\n",
       "  <th>No. Observations:</th>      <td>   434</td>      <th>  AIC:               </th> <td>   3755.</td>\n",
       "</tr>\n",
       "<tr>\n",
       "  <th>Df Residuals:</th>          <td>   432</td>      <th>  BIC:               </th> <td>   3763.</td>\n",
       "</tr>\n",
       "<tr>\n",
       "  <th>Df Model:</th>              <td>     1</td>      <th>                     </th>     <td> </td>   \n",
       "</tr>\n",
       "<tr>\n",
       "  <th>Covariance Type:</th>      <td>nonrobust</td>    <th>                     </th>     <td> </td>   \n",
       "</tr>\n",
       "</table>\n",
       "<table class=\"simpletable\">\n",
       "<tr>\n",
       "      <td></td>         <th>coef</th>     <th>std err</th>      <th>t</th>      <th>P>|t|</th>  <th>[0.025</th>    <th>0.975]</th>  \n",
       "</tr>\n",
       "<tr>\n",
       "  <th>Intercept</th> <td>   86.7972</td> <td>    0.877</td> <td>   98.993</td> <td> 0.000</td> <td>   85.074</td> <td>   88.521</td>\n",
       "</tr>\n",
       "<tr>\n",
       "  <th>IQ</th>        <td>    9.1391</td> <td>    0.877</td> <td>   10.423</td> <td> 0.000</td> <td>    7.416</td> <td>   10.862</td>\n",
       "</tr>\n",
       "</table>\n",
       "<table class=\"simpletable\">\n",
       "<tr>\n",
       "  <th>Omnibus:</th>       <td> 7.545</td> <th>  Durbin-Watson:     </th> <td>   1.645</td>\n",
       "</tr>\n",
       "<tr>\n",
       "  <th>Prob(Omnibus):</th> <td> 0.023</td> <th>  Jarque-Bera (JB):  </th> <td>   7.735</td>\n",
       "</tr>\n",
       "<tr>\n",
       "  <th>Skew:</th>          <td>-0.324</td> <th>  Prob(JB):          </th> <td>  0.0209</td>\n",
       "</tr>\n",
       "<tr>\n",
       "  <th>Kurtosis:</th>      <td> 2.919</td> <th>  Cond. No.          </th> <td>    1.00</td>\n",
       "</tr>\n",
       "</table><br/><br/>Warnings:<br/>[1] Standard Errors assume that the covariance matrix of the errors is correctly specified."
      ],
      "text/plain": [
       "<class 'statsmodels.iolib.summary.Summary'>\n",
       "\"\"\"\n",
       "                            OLS Regression Results                            \n",
       "==============================================================================\n",
       "Dep. Variable:                  Score   R-squared:                       0.201\n",
       "Model:                            OLS   Adj. R-squared:                  0.199\n",
       "Method:                 Least Squares   F-statistic:                     108.6\n",
       "Date:                Sun, 22 Jan 2023   Prob (F-statistic):           7.66e-23\n",
       "Time:                        18:05:09   Log-Likelihood:                -1875.6\n",
       "No. Observations:                 434   AIC:                             3755.\n",
       "Df Residuals:                     432   BIC:                             3763.\n",
       "Df Model:                           1                                         \n",
       "Covariance Type:            nonrobust                                         \n",
       "==============================================================================\n",
       "                 coef    std err          t      P>|t|      [0.025      0.975]\n",
       "------------------------------------------------------------------------------\n",
       "Intercept     86.7972      0.877     98.993      0.000      85.074      88.521\n",
       "IQ             9.1391      0.877     10.423      0.000       7.416      10.862\n",
       "==============================================================================\n",
       "Omnibus:                        7.545   Durbin-Watson:                   1.645\n",
       "Prob(Omnibus):                  0.023   Jarque-Bera (JB):                7.735\n",
       "Skew:                          -0.324   Prob(JB):                       0.0209\n",
       "Kurtosis:                       2.919   Cond. No.                         1.00\n",
       "==============================================================================\n",
       "\n",
       "Warnings:\n",
       "[1] Standard Errors assume that the covariance matrix of the errors is correctly specified.\n",
       "\"\"\""
      ]
     },
     "execution_count": 26,
     "metadata": {},
     "output_type": "execute_result"
    }
   ],
   "source": [
    "import statsmodels.api as sm\n",
    "import statsmodels.formula.api as smf\n",
    "\n",
    "model1 = smf.ols(formula='Score ~ IQ', data=X).fit()\n",
    "model2 = smf.ols(formula='Score ~ Age', data=X).fit()\n",
    "model3 = smf.ols(formula='Score ~ Work', data=X).fit()\n",
    "model4 = smf.ols(formula='Score ~ HighSchool', data=X).fit()\n",
    "model1.summary()"
   ]
  },
  {
   "cell_type": "markdown",
   "metadata": {},
   "source": [
    "Model1 explains about 20% of change in score. Since we have a very small p-value. The coefficient is significant. And then holding all else constant, given one unit change in IQ will result a change in 9.1391 in Score. "
   ]
  },
  {
   "cell_type": "code",
   "execution_count": 27,
   "metadata": {},
   "outputs": [
    {
     "data": {
      "text/html": [
       "<table class=\"simpletable\">\n",
       "<caption>OLS Regression Results</caption>\n",
       "<tr>\n",
       "  <th>Dep. Variable:</th>          <td>Score</td>      <th>  R-squared:         </th> <td>   0.008</td>\n",
       "</tr>\n",
       "<tr>\n",
       "  <th>Model:</th>                   <td>OLS</td>       <th>  Adj. R-squared:    </th> <td>   0.006</td>\n",
       "</tr>\n",
       "<tr>\n",
       "  <th>Method:</th>             <td>Least Squares</td>  <th>  F-statistic:       </th> <td>   3.688</td>\n",
       "</tr>\n",
       "<tr>\n",
       "  <th>Date:</th>             <td>Sun, 22 Jan 2023</td> <th>  Prob (F-statistic):</th>  <td>0.0555</td> \n",
       "</tr>\n",
       "<tr>\n",
       "  <th>Time:</th>                 <td>18:05:09</td>     <th>  Log-Likelihood:    </th> <td> -1922.4</td>\n",
       "</tr>\n",
       "<tr>\n",
       "  <th>No. Observations:</th>      <td>   434</td>      <th>  AIC:               </th> <td>   3849.</td>\n",
       "</tr>\n",
       "<tr>\n",
       "  <th>Df Residuals:</th>          <td>   432</td>      <th>  BIC:               </th> <td>   3857.</td>\n",
       "</tr>\n",
       "<tr>\n",
       "  <th>Df Model:</th>              <td>     1</td>      <th>                     </th>     <td> </td>   \n",
       "</tr>\n",
       "<tr>\n",
       "  <th>Covariance Type:</th>      <td>nonrobust</td>    <th>                     </th>     <td> </td>   \n",
       "</tr>\n",
       "</table>\n",
       "<table class=\"simpletable\">\n",
       "<tr>\n",
       "      <td></td>         <th>coef</th>     <th>std err</th>      <th>t</th>      <th>P>|t|</th>  <th>[0.025</th>    <th>0.975]</th>  \n",
       "</tr>\n",
       "<tr>\n",
       "  <th>Intercept</th> <td>   86.7972</td> <td>    0.977</td> <td>   88.866</td> <td> 0.000</td> <td>   84.878</td> <td>   88.717</td>\n",
       "</tr>\n",
       "<tr>\n",
       "  <th>Age</th>       <td>    1.8756</td> <td>    0.977</td> <td>    1.920</td> <td> 0.055</td> <td>   -0.044</td> <td>    3.795</td>\n",
       "</tr>\n",
       "</table>\n",
       "<table class=\"simpletable\">\n",
       "<tr>\n",
       "  <th>Omnibus:</th>       <td>14.813</td> <th>  Durbin-Watson:     </th> <td>   1.486</td>\n",
       "</tr>\n",
       "<tr>\n",
       "  <th>Prob(Omnibus):</th> <td> 0.001</td> <th>  Jarque-Bera (JB):  </th> <td>  15.823</td>\n",
       "</tr>\n",
       "<tr>\n",
       "  <th>Skew:</th>          <td>-0.463</td> <th>  Prob(JB):          </th> <td>0.000366</td>\n",
       "</tr>\n",
       "<tr>\n",
       "  <th>Kurtosis:</th>      <td> 2.871</td> <th>  Cond. No.          </th> <td>    1.00</td>\n",
       "</tr>\n",
       "</table><br/><br/>Warnings:<br/>[1] Standard Errors assume that the covariance matrix of the errors is correctly specified."
      ],
      "text/plain": [
       "<class 'statsmodels.iolib.summary.Summary'>\n",
       "\"\"\"\n",
       "                            OLS Regression Results                            \n",
       "==============================================================================\n",
       "Dep. Variable:                  Score   R-squared:                       0.008\n",
       "Model:                            OLS   Adj. R-squared:                  0.006\n",
       "Method:                 Least Squares   F-statistic:                     3.688\n",
       "Date:                Sun, 22 Jan 2023   Prob (F-statistic):             0.0555\n",
       "Time:                        18:05:09   Log-Likelihood:                -1922.4\n",
       "No. Observations:                 434   AIC:                             3849.\n",
       "Df Residuals:                     432   BIC:                             3857.\n",
       "Df Model:                           1                                         \n",
       "Covariance Type:            nonrobust                                         \n",
       "==============================================================================\n",
       "                 coef    std err          t      P>|t|      [0.025      0.975]\n",
       "------------------------------------------------------------------------------\n",
       "Intercept     86.7972      0.977     88.866      0.000      84.878      88.717\n",
       "Age            1.8756      0.977      1.920      0.055      -0.044       3.795\n",
       "==============================================================================\n",
       "Omnibus:                       14.813   Durbin-Watson:                   1.486\n",
       "Prob(Omnibus):                  0.001   Jarque-Bera (JB):               15.823\n",
       "Skew:                          -0.463   Prob(JB):                     0.000366\n",
       "Kurtosis:                       2.871   Cond. No.                         1.00\n",
       "==============================================================================\n",
       "\n",
       "Warnings:\n",
       "[1] Standard Errors assume that the covariance matrix of the errors is correctly specified.\n",
       "\"\"\""
      ]
     },
     "execution_count": 27,
     "metadata": {},
     "output_type": "execute_result"
    }
   ],
   "source": [
    "model2.summary()"
   ]
  },
  {
   "cell_type": "markdown",
   "metadata": {},
   "source": [
    "Model2 is not as good as model1 in that its R-squared is much lower than R-Squared in Model1. The coefficient of Age is insignificant under 95% confidence interval."
   ]
  },
  {
   "cell_type": "code",
   "execution_count": 28,
   "metadata": {},
   "outputs": [
    {
     "data": {
      "text/html": [
       "<table class=\"simpletable\">\n",
       "<caption>OLS Regression Results</caption>\n",
       "<tr>\n",
       "  <th>Dep. Variable:</th>          <td>Score</td>      <th>  R-squared:         </th> <td>   0.008</td>\n",
       "</tr>\n",
       "<tr>\n",
       "  <th>Model:</th>                   <td>OLS</td>       <th>  Adj. R-squared:    </th> <td>   0.005</td>\n",
       "</tr>\n",
       "<tr>\n",
       "  <th>Method:</th>             <td>Least Squares</td>  <th>  F-statistic:       </th> <td>   3.335</td>\n",
       "</tr>\n",
       "<tr>\n",
       "  <th>Date:</th>             <td>Sun, 22 Jan 2023</td> <th>  Prob (F-statistic):</th>  <td>0.0685</td> \n",
       "</tr>\n",
       "<tr>\n",
       "  <th>Time:</th>                 <td>18:05:09</td>     <th>  Log-Likelihood:    </th> <td> -1922.6</td>\n",
       "</tr>\n",
       "<tr>\n",
       "  <th>No. Observations:</th>      <td>   434</td>      <th>  AIC:               </th> <td>   3849.</td>\n",
       "</tr>\n",
       "<tr>\n",
       "  <th>Df Residuals:</th>          <td>   432</td>      <th>  BIC:               </th> <td>   3857.</td>\n",
       "</tr>\n",
       "<tr>\n",
       "  <th>Df Model:</th>              <td>     1</td>      <th>                     </th>     <td> </td>   \n",
       "</tr>\n",
       "<tr>\n",
       "  <th>Covariance Type:</th>      <td>nonrobust</td>    <th>                     </th>     <td> </td>   \n",
       "</tr>\n",
       "</table>\n",
       "<table class=\"simpletable\">\n",
       "<tr>\n",
       "      <td></td>         <th>coef</th>     <th>std err</th>      <th>t</th>      <th>P>|t|</th>  <th>[0.025</th>    <th>0.975]</th>  \n",
       "</tr>\n",
       "<tr>\n",
       "  <th>Intercept</th> <td>   86.7972</td> <td>    0.977</td> <td>   88.830</td> <td> 0.000</td> <td>   84.877</td> <td>   88.718</td>\n",
       "</tr>\n",
       "<tr>\n",
       "  <th>Work</th>      <td>    1.7844</td> <td>    0.977</td> <td>    1.826</td> <td> 0.069</td> <td>   -0.136</td> <td>    3.705</td>\n",
       "</tr>\n",
       "</table>\n",
       "<table class=\"simpletable\">\n",
       "<tr>\n",
       "  <th>Omnibus:</th>       <td>13.911</td> <th>  Durbin-Watson:     </th> <td>   1.467</td>\n",
       "</tr>\n",
       "<tr>\n",
       "  <th>Prob(Omnibus):</th> <td> 0.001</td> <th>  Jarque-Bera (JB):  </th> <td>  14.738</td>\n",
       "</tr>\n",
       "<tr>\n",
       "  <th>Skew:</th>          <td>-0.442</td> <th>  Prob(JB):          </th> <td>0.000630</td>\n",
       "</tr>\n",
       "<tr>\n",
       "  <th>Kurtosis:</th>      <td> 2.819</td> <th>  Cond. No.          </th> <td>    1.00</td>\n",
       "</tr>\n",
       "</table><br/><br/>Warnings:<br/>[1] Standard Errors assume that the covariance matrix of the errors is correctly specified."
      ],
      "text/plain": [
       "<class 'statsmodels.iolib.summary.Summary'>\n",
       "\"\"\"\n",
       "                            OLS Regression Results                            \n",
       "==============================================================================\n",
       "Dep. Variable:                  Score   R-squared:                       0.008\n",
       "Model:                            OLS   Adj. R-squared:                  0.005\n",
       "Method:                 Least Squares   F-statistic:                     3.335\n",
       "Date:                Sun, 22 Jan 2023   Prob (F-statistic):             0.0685\n",
       "Time:                        18:05:09   Log-Likelihood:                -1922.6\n",
       "No. Observations:                 434   AIC:                             3849.\n",
       "Df Residuals:                     432   BIC:                             3857.\n",
       "Df Model:                           1                                         \n",
       "Covariance Type:            nonrobust                                         \n",
       "==============================================================================\n",
       "                 coef    std err          t      P>|t|      [0.025      0.975]\n",
       "------------------------------------------------------------------------------\n",
       "Intercept     86.7972      0.977     88.830      0.000      84.877      88.718\n",
       "Work           1.7844      0.977      1.826      0.069      -0.136       3.705\n",
       "==============================================================================\n",
       "Omnibus:                       13.911   Durbin-Watson:                   1.467\n",
       "Prob(Omnibus):                  0.001   Jarque-Bera (JB):               14.738\n",
       "Skew:                          -0.442   Prob(JB):                     0.000630\n",
       "Kurtosis:                       2.819   Cond. No.                         1.00\n",
       "==============================================================================\n",
       "\n",
       "Warnings:\n",
       "[1] Standard Errors assume that the covariance matrix of the errors is correctly specified.\n",
       "\"\"\""
      ]
     },
     "execution_count": 28,
     "metadata": {},
     "output_type": "execute_result"
    }
   ],
   "source": [
    "model3.summary()"
   ]
  },
  {
   "cell_type": "markdown",
   "metadata": {},
   "source": [
    "Similar to Model2, Model3 is not good as well because it also has a very small R-Squared. Plus Model2 and Model3 has larger AIC score and BIC score than Model1. "
   ]
  },
  {
   "cell_type": "code",
   "execution_count": 29,
   "metadata": {},
   "outputs": [
    {
     "data": {
      "text/html": [
       "<table class=\"simpletable\">\n",
       "<caption>OLS Regression Results</caption>\n",
       "<tr>\n",
       "  <th>Dep. Variable:</th>          <td>Score</td>      <th>  R-squared:         </th> <td>   0.056</td>\n",
       "</tr>\n",
       "<tr>\n",
       "  <th>Model:</th>                   <td>OLS</td>       <th>  Adj. R-squared:    </th> <td>   0.054</td>\n",
       "</tr>\n",
       "<tr>\n",
       "  <th>Method:</th>             <td>Least Squares</td>  <th>  F-statistic:       </th> <td>   25.69</td>\n",
       "</tr>\n",
       "<tr>\n",
       "  <th>Date:</th>             <td>Sun, 22 Jan 2023</td> <th>  Prob (F-statistic):</th> <td>5.96e-07</td>\n",
       "</tr>\n",
       "<tr>\n",
       "  <th>Time:</th>                 <td>18:05:09</td>     <th>  Log-Likelihood:    </th> <td> -1911.8</td>\n",
       "</tr>\n",
       "<tr>\n",
       "  <th>No. Observations:</th>      <td>   434</td>      <th>  AIC:               </th> <td>   3828.</td>\n",
       "</tr>\n",
       "<tr>\n",
       "  <th>Df Residuals:</th>          <td>   432</td>      <th>  BIC:               </th> <td>   3836.</td>\n",
       "</tr>\n",
       "<tr>\n",
       "  <th>Df Model:</th>              <td>     1</td>      <th>                     </th>     <td> </td>   \n",
       "</tr>\n",
       "<tr>\n",
       "  <th>Covariance Type:</th>      <td>nonrobust</td>    <th>                     </th>     <td> </td>   \n",
       "</tr>\n",
       "</table>\n",
       "<table class=\"simpletable\">\n",
       "<tr>\n",
       "       <td></td>         <th>coef</th>     <th>std err</th>      <th>t</th>      <th>P>|t|</th>  <th>[0.025</th>    <th>0.975]</th>  \n",
       "</tr>\n",
       "<tr>\n",
       "  <th>Intercept</th>  <td>   86.7972</td> <td>    0.953</td> <td>   91.082</td> <td> 0.000</td> <td>   84.924</td> <td>   88.670</td>\n",
       "</tr>\n",
       "<tr>\n",
       "  <th>HighSchool</th> <td>    4.8301</td> <td>    0.953</td> <td>    5.069</td> <td> 0.000</td> <td>    2.957</td> <td>    6.703</td>\n",
       "</tr>\n",
       "</table>\n",
       "<table class=\"simpletable\">\n",
       "<tr>\n",
       "  <th>Omnibus:</th>       <td>11.077</td> <th>  Durbin-Watson:     </th> <td>   1.464</td>\n",
       "</tr>\n",
       "<tr>\n",
       "  <th>Prob(Omnibus):</th> <td> 0.004</td> <th>  Jarque-Bera (JB):  </th> <td>  11.316</td>\n",
       "</tr>\n",
       "<tr>\n",
       "  <th>Skew:</th>          <td>-0.373</td> <th>  Prob(JB):          </th> <td> 0.00349</td>\n",
       "</tr>\n",
       "<tr>\n",
       "  <th>Kurtosis:</th>      <td> 2.738</td> <th>  Cond. No.          </th> <td>    1.00</td>\n",
       "</tr>\n",
       "</table><br/><br/>Warnings:<br/>[1] Standard Errors assume that the covariance matrix of the errors is correctly specified."
      ],
      "text/plain": [
       "<class 'statsmodels.iolib.summary.Summary'>\n",
       "\"\"\"\n",
       "                            OLS Regression Results                            \n",
       "==============================================================================\n",
       "Dep. Variable:                  Score   R-squared:                       0.056\n",
       "Model:                            OLS   Adj. R-squared:                  0.054\n",
       "Method:                 Least Squares   F-statistic:                     25.69\n",
       "Date:                Sun, 22 Jan 2023   Prob (F-statistic):           5.96e-07\n",
       "Time:                        18:05:09   Log-Likelihood:                -1911.8\n",
       "No. Observations:                 434   AIC:                             3828.\n",
       "Df Residuals:                     432   BIC:                             3836.\n",
       "Df Model:                           1                                         \n",
       "Covariance Type:            nonrobust                                         \n",
       "==============================================================================\n",
       "                 coef    std err          t      P>|t|      [0.025      0.975]\n",
       "------------------------------------------------------------------------------\n",
       "Intercept     86.7972      0.953     91.082      0.000      84.924      88.670\n",
       "HighSchool     4.8301      0.953      5.069      0.000       2.957       6.703\n",
       "==============================================================================\n",
       "Omnibus:                       11.077   Durbin-Watson:                   1.464\n",
       "Prob(Omnibus):                  0.004   Jarque-Bera (JB):               11.316\n",
       "Skew:                          -0.373   Prob(JB):                      0.00349\n",
       "Kurtosis:                       2.738   Cond. No.                         1.00\n",
       "==============================================================================\n",
       "\n",
       "Warnings:\n",
       "[1] Standard Errors assume that the covariance matrix of the errors is correctly specified.\n",
       "\"\"\""
      ]
     },
     "execution_count": 29,
     "metadata": {},
     "output_type": "execute_result"
    }
   ],
   "source": [
    "model4.summary()"
   ]
  },
  {
   "cell_type": "markdown",
   "metadata": {},
   "source": [
    "Model4 is slightly better than Model2 and Model3 in that its R-squared has increased, but still not as good as Model1. Holding all else constant, 1 unit increase in HighSchool result in a 4.83 unit increase in Score.\n",
    "If I can only keep 1 single factor model, I would keep model1."
   ]
  },
  {
   "cell_type": "markdown",
   "metadata": {},
   "source": [
    "Moving on to multiple predictors model"
   ]
  },
  {
   "cell_type": "code",
   "execution_count": 30,
   "metadata": {},
   "outputs": [
    {
     "data": {
      "text/html": [
       "<table class=\"simpletable\">\n",
       "<caption>OLS Regression Results</caption>\n",
       "<tr>\n",
       "  <th>Dep. Variable:</th>          <td>Score</td>      <th>  R-squared:         </th> <td>   0.215</td>\n",
       "</tr>\n",
       "<tr>\n",
       "  <th>Model:</th>                   <td>OLS</td>       <th>  Adj. R-squared:    </th> <td>   0.208</td>\n",
       "</tr>\n",
       "<tr>\n",
       "  <th>Method:</th>             <td>Least Squares</td>  <th>  F-statistic:       </th> <td>   29.38</td>\n",
       "</tr>\n",
       "<tr>\n",
       "  <th>Date:</th>             <td>Sun, 22 Jan 2023</td> <th>  Prob (F-statistic):</th> <td>1.31e-21</td>\n",
       "</tr>\n",
       "<tr>\n",
       "  <th>Time:</th>                 <td>18:05:09</td>     <th>  Log-Likelihood:    </th> <td> -1871.7</td>\n",
       "</tr>\n",
       "<tr>\n",
       "  <th>No. Observations:</th>      <td>   434</td>      <th>  AIC:               </th> <td>   3753.</td>\n",
       "</tr>\n",
       "<tr>\n",
       "  <th>Df Residuals:</th>          <td>   429</td>      <th>  BIC:               </th> <td>   3774.</td>\n",
       "</tr>\n",
       "<tr>\n",
       "  <th>Df Model:</th>              <td>     4</td>      <th>                     </th>     <td> </td>   \n",
       "</tr>\n",
       "<tr>\n",
       "  <th>Covariance Type:</th>      <td>nonrobust</td>    <th>                     </th>     <td> </td>   \n",
       "</tr>\n",
       "</table>\n",
       "<table class=\"simpletable\">\n",
       "<tr>\n",
       "       <td></td>         <th>coef</th>     <th>std err</th>      <th>t</th>      <th>P>|t|</th>  <th>[0.025</th>    <th>0.975]</th>  \n",
       "</tr>\n",
       "<tr>\n",
       "  <th>Intercept</th>  <td>   86.7972</td> <td>    0.872</td> <td>   99.530</td> <td> 0.000</td> <td>   85.083</td> <td>   88.511</td>\n",
       "</tr>\n",
       "<tr>\n",
       "  <th>IQ</th>         <td>    8.4215</td> <td>    0.911</td> <td>    9.249</td> <td> 0.000</td> <td>    6.632</td> <td>   10.211</td>\n",
       "</tr>\n",
       "<tr>\n",
       "  <th>Age</th>        <td>    0.5932</td> <td>    0.897</td> <td>    0.662</td> <td> 0.509</td> <td>   -1.169</td> <td>    2.355</td>\n",
       "</tr>\n",
       "<tr>\n",
       "  <th>Work</th>       <td>    0.1578</td> <td>    0.906</td> <td>    0.174</td> <td> 0.862</td> <td>   -1.623</td> <td>    1.938</td>\n",
       "</tr>\n",
       "<tr>\n",
       "  <th>HighSchool</th> <td>    2.2819</td> <td>    0.949</td> <td>    2.404</td> <td> 0.017</td> <td>    0.416</td> <td>    4.148</td>\n",
       "</tr>\n",
       "</table>\n",
       "<table class=\"simpletable\">\n",
       "<tr>\n",
       "  <th>Omnibus:</th>       <td> 7.277</td> <th>  Durbin-Watson:     </th> <td>   1.623</td>\n",
       "</tr>\n",
       "<tr>\n",
       "  <th>Prob(Omnibus):</th> <td> 0.026</td> <th>  Jarque-Bera (JB):  </th> <td>   7.480</td>\n",
       "</tr>\n",
       "<tr>\n",
       "  <th>Skew:</th>          <td>-0.313</td> <th>  Prob(JB):          </th> <td>  0.0238</td>\n",
       "</tr>\n",
       "<tr>\n",
       "  <th>Kurtosis:</th>      <td> 2.851</td> <th>  Cond. No.          </th> <td>    1.54</td>\n",
       "</tr>\n",
       "</table><br/><br/>Warnings:<br/>[1] Standard Errors assume that the covariance matrix of the errors is correctly specified."
      ],
      "text/plain": [
       "<class 'statsmodels.iolib.summary.Summary'>\n",
       "\"\"\"\n",
       "                            OLS Regression Results                            \n",
       "==============================================================================\n",
       "Dep. Variable:                  Score   R-squared:                       0.215\n",
       "Model:                            OLS   Adj. R-squared:                  0.208\n",
       "Method:                 Least Squares   F-statistic:                     29.38\n",
       "Date:                Sun, 22 Jan 2023   Prob (F-statistic):           1.31e-21\n",
       "Time:                        18:05:09   Log-Likelihood:                -1871.7\n",
       "No. Observations:                 434   AIC:                             3753.\n",
       "Df Residuals:                     429   BIC:                             3774.\n",
       "Df Model:                           4                                         \n",
       "Covariance Type:            nonrobust                                         \n",
       "==============================================================================\n",
       "                 coef    std err          t      P>|t|      [0.025      0.975]\n",
       "------------------------------------------------------------------------------\n",
       "Intercept     86.7972      0.872     99.530      0.000      85.083      88.511\n",
       "IQ             8.4215      0.911      9.249      0.000       6.632      10.211\n",
       "Age            0.5932      0.897      0.662      0.509      -1.169       2.355\n",
       "Work           0.1578      0.906      0.174      0.862      -1.623       1.938\n",
       "HighSchool     2.2819      0.949      2.404      0.017       0.416       4.148\n",
       "==============================================================================\n",
       "Omnibus:                        7.277   Durbin-Watson:                   1.623\n",
       "Prob(Omnibus):                  0.026   Jarque-Bera (JB):                7.480\n",
       "Skew:                          -0.313   Prob(JB):                       0.0238\n",
       "Kurtosis:                       2.851   Cond. No.                         1.54\n",
       "==============================================================================\n",
       "\n",
       "Warnings:\n",
       "[1] Standard Errors assume that the covariance matrix of the errors is correctly specified.\n",
       "\"\"\""
      ]
     },
     "execution_count": 30,
     "metadata": {},
     "output_type": "execute_result"
    }
   ],
   "source": [
    "model5 = smf.ols(formula='Score ~ IQ + Age + Work + HighSchool', data=X).fit()\n",
    "model5.summary()"
   ]
  },
  {
   "cell_type": "markdown",
   "metadata": {},
   "source": [
    "Model5 explains 21% of change in Score. Under 95% confidence interval, IQ and Work has significant coefficient. Age and Work has insignificant coefficient. I will start from removing the least significant predictor, which is work."
   ]
  },
  {
   "cell_type": "code",
   "execution_count": 31,
   "metadata": {},
   "outputs": [
    {
     "data": {
      "text/html": [
       "<table class=\"simpletable\">\n",
       "<caption>OLS Regression Results</caption>\n",
       "<tr>\n",
       "  <th>Dep. Variable:</th>          <td>Score</td>      <th>  R-squared:         </th> <td>   0.215</td>\n",
       "</tr>\n",
       "<tr>\n",
       "  <th>Model:</th>                   <td>OLS</td>       <th>  Adj. R-squared:    </th> <td>   0.210</td>\n",
       "</tr>\n",
       "<tr>\n",
       "  <th>Method:</th>             <td>Least Squares</td>  <th>  F-statistic:       </th> <td>   39.25</td>\n",
       "</tr>\n",
       "<tr>\n",
       "  <th>Date:</th>             <td>Sun, 22 Jan 2023</td> <th>  Prob (F-statistic):</th> <td>1.94e-22</td>\n",
       "</tr>\n",
       "<tr>\n",
       "  <th>Time:</th>                 <td>18:05:09</td>     <th>  Log-Likelihood:    </th> <td> -1871.8</td>\n",
       "</tr>\n",
       "<tr>\n",
       "  <th>No. Observations:</th>      <td>   434</td>      <th>  AIC:               </th> <td>   3752.</td>\n",
       "</tr>\n",
       "<tr>\n",
       "  <th>Df Residuals:</th>          <td>   430</td>      <th>  BIC:               </th> <td>   3768.</td>\n",
       "</tr>\n",
       "<tr>\n",
       "  <th>Df Model:</th>              <td>     3</td>      <th>                     </th>     <td> </td>   \n",
       "</tr>\n",
       "<tr>\n",
       "  <th>Covariance Type:</th>      <td>nonrobust</td>    <th>                     </th>     <td> </td>   \n",
       "</tr>\n",
       "</table>\n",
       "<table class=\"simpletable\">\n",
       "<tr>\n",
       "       <td></td>         <th>coef</th>     <th>std err</th>      <th>t</th>      <th>P>|t|</th>  <th>[0.025</th>    <th>0.975]</th>  \n",
       "</tr>\n",
       "<tr>\n",
       "  <th>Intercept</th>  <td>   86.7972</td> <td>    0.871</td> <td>   99.643</td> <td> 0.000</td> <td>   85.085</td> <td>   88.509</td>\n",
       "</tr>\n",
       "<tr>\n",
       "  <th>IQ</th>         <td>    8.4284</td> <td>    0.909</td> <td>    9.276</td> <td> 0.000</td> <td>    6.643</td> <td>   10.214</td>\n",
       "</tr>\n",
       "<tr>\n",
       "  <th>Age</th>        <td>    0.6064</td> <td>    0.892</td> <td>    0.680</td> <td> 0.497</td> <td>   -1.148</td> <td>    2.360</td>\n",
       "</tr>\n",
       "<tr>\n",
       "  <th>HighSchool</th> <td>    2.3172</td> <td>    0.926</td> <td>    2.501</td> <td> 0.013</td> <td>    0.496</td> <td>    4.138</td>\n",
       "</tr>\n",
       "</table>\n",
       "<table class=\"simpletable\">\n",
       "<tr>\n",
       "  <th>Omnibus:</th>       <td> 7.243</td> <th>  Durbin-Watson:     </th> <td>   1.624</td>\n",
       "</tr>\n",
       "<tr>\n",
       "  <th>Prob(Omnibus):</th> <td> 0.027</td> <th>  Jarque-Bera (JB):  </th> <td>   7.444</td>\n",
       "</tr>\n",
       "<tr>\n",
       "  <th>Skew:</th>          <td>-0.312</td> <th>  Prob(JB):          </th> <td>  0.0242</td>\n",
       "</tr>\n",
       "<tr>\n",
       "  <th>Kurtosis:</th>      <td> 2.852</td> <th>  Cond. No.          </th> <td>    1.43</td>\n",
       "</tr>\n",
       "</table><br/><br/>Warnings:<br/>[1] Standard Errors assume that the covariance matrix of the errors is correctly specified."
      ],
      "text/plain": [
       "<class 'statsmodels.iolib.summary.Summary'>\n",
       "\"\"\"\n",
       "                            OLS Regression Results                            \n",
       "==============================================================================\n",
       "Dep. Variable:                  Score   R-squared:                       0.215\n",
       "Model:                            OLS   Adj. R-squared:                  0.210\n",
       "Method:                 Least Squares   F-statistic:                     39.25\n",
       "Date:                Sun, 22 Jan 2023   Prob (F-statistic):           1.94e-22\n",
       "Time:                        18:05:09   Log-Likelihood:                -1871.8\n",
       "No. Observations:                 434   AIC:                             3752.\n",
       "Df Residuals:                     430   BIC:                             3768.\n",
       "Df Model:                           3                                         \n",
       "Covariance Type:            nonrobust                                         \n",
       "==============================================================================\n",
       "                 coef    std err          t      P>|t|      [0.025      0.975]\n",
       "------------------------------------------------------------------------------\n",
       "Intercept     86.7972      0.871     99.643      0.000      85.085      88.509\n",
       "IQ             8.4284      0.909      9.276      0.000       6.643      10.214\n",
       "Age            0.6064      0.892      0.680      0.497      -1.148       2.360\n",
       "HighSchool     2.3172      0.926      2.501      0.013       0.496       4.138\n",
       "==============================================================================\n",
       "Omnibus:                        7.243   Durbin-Watson:                   1.624\n",
       "Prob(Omnibus):                  0.027   Jarque-Bera (JB):                7.444\n",
       "Skew:                          -0.312   Prob(JB):                       0.0242\n",
       "Kurtosis:                       2.852   Cond. No.                         1.43\n",
       "==============================================================================\n",
       "\n",
       "Warnings:\n",
       "[1] Standard Errors assume that the covariance matrix of the errors is correctly specified.\n",
       "\"\"\""
      ]
     },
     "execution_count": 31,
     "metadata": {},
     "output_type": "execute_result"
    }
   ],
   "source": [
    "model6 = smf.ols(formula='Score ~ IQ + Age + HighSchool', data=X).fit()\n",
    "model6.summary()"
   ]
  },
  {
   "cell_type": "markdown",
   "metadata": {},
   "source": [
    "And then removing Age."
   ]
  },
  {
   "cell_type": "code",
   "execution_count": 32,
   "metadata": {},
   "outputs": [
    {
     "data": {
      "text/html": [
       "<table class=\"simpletable\">\n",
       "<caption>OLS Regression Results</caption>\n",
       "<tr>\n",
       "  <th>Dep. Variable:</th>          <td>Score</td>      <th>  R-squared:         </th> <td>   0.214</td>\n",
       "</tr>\n",
       "<tr>\n",
       "  <th>Model:</th>                   <td>OLS</td>       <th>  Adj. R-squared:    </th> <td>   0.210</td>\n",
       "</tr>\n",
       "<tr>\n",
       "  <th>Method:</th>             <td>Least Squares</td>  <th>  F-statistic:       </th> <td>   58.72</td>\n",
       "</tr>\n",
       "<tr>\n",
       "  <th>Date:</th>             <td>Sun, 22 Jan 2023</td> <th>  Prob (F-statistic):</th> <td>2.79e-23</td>\n",
       "</tr>\n",
       "<tr>\n",
       "  <th>Time:</th>                 <td>18:05:09</td>     <th>  Log-Likelihood:    </th> <td> -1872.0</td>\n",
       "</tr>\n",
       "<tr>\n",
       "  <th>No. Observations:</th>      <td>   434</td>      <th>  AIC:               </th> <td>   3750.</td>\n",
       "</tr>\n",
       "<tr>\n",
       "  <th>Df Residuals:</th>          <td>   431</td>      <th>  BIC:               </th> <td>   3762.</td>\n",
       "</tr>\n",
       "<tr>\n",
       "  <th>Df Model:</th>              <td>     2</td>      <th>                     </th>     <td> </td>   \n",
       "</tr>\n",
       "<tr>\n",
       "  <th>Covariance Type:</th>      <td>nonrobust</td>    <th>                     </th>     <td> </td>   \n",
       "</tr>\n",
       "</table>\n",
       "<table class=\"simpletable\">\n",
       "<tr>\n",
       "       <td></td>         <th>coef</th>     <th>std err</th>      <th>t</th>      <th>P>|t|</th>  <th>[0.025</th>    <th>0.975]</th>  \n",
       "</tr>\n",
       "<tr>\n",
       "  <th>Intercept</th>  <td>   86.7972</td> <td>    0.871</td> <td>   99.705</td> <td> 0.000</td> <td>   85.086</td> <td>   88.508</td>\n",
       "</tr>\n",
       "<tr>\n",
       "  <th>IQ</th>         <td>    8.4488</td> <td>    0.908</td> <td>    9.309</td> <td> 0.000</td> <td>    6.665</td> <td>   10.233</td>\n",
       "</tr>\n",
       "<tr>\n",
       "  <th>HighSchool</th> <td>    2.4415</td> <td>    0.908</td> <td>    2.690</td> <td> 0.007</td> <td>    0.658</td> <td>    4.225</td>\n",
       "</tr>\n",
       "</table>\n",
       "<table class=\"simpletable\">\n",
       "<tr>\n",
       "  <th>Omnibus:</th>       <td> 7.327</td> <th>  Durbin-Watson:     </th> <td>   1.625</td>\n",
       "</tr>\n",
       "<tr>\n",
       "  <th>Prob(Omnibus):</th> <td> 0.026</td> <th>  Jarque-Bera (JB):  </th> <td>   7.530</td>\n",
       "</tr>\n",
       "<tr>\n",
       "  <th>Skew:</th>          <td>-0.313</td> <th>  Prob(JB):          </th> <td>  0.0232</td>\n",
       "</tr>\n",
       "<tr>\n",
       "  <th>Kurtosis:</th>      <td> 2.845</td> <th>  Cond. No.          </th> <td>    1.34</td>\n",
       "</tr>\n",
       "</table><br/><br/>Warnings:<br/>[1] Standard Errors assume that the covariance matrix of the errors is correctly specified."
      ],
      "text/plain": [
       "<class 'statsmodels.iolib.summary.Summary'>\n",
       "\"\"\"\n",
       "                            OLS Regression Results                            \n",
       "==============================================================================\n",
       "Dep. Variable:                  Score   R-squared:                       0.214\n",
       "Model:                            OLS   Adj. R-squared:                  0.210\n",
       "Method:                 Least Squares   F-statistic:                     58.72\n",
       "Date:                Sun, 22 Jan 2023   Prob (F-statistic):           2.79e-23\n",
       "Time:                        18:05:09   Log-Likelihood:                -1872.0\n",
       "No. Observations:                 434   AIC:                             3750.\n",
       "Df Residuals:                     431   BIC:                             3762.\n",
       "Df Model:                           2                                         \n",
       "Covariance Type:            nonrobust                                         \n",
       "==============================================================================\n",
       "                 coef    std err          t      P>|t|      [0.025      0.975]\n",
       "------------------------------------------------------------------------------\n",
       "Intercept     86.7972      0.871     99.705      0.000      85.086      88.508\n",
       "IQ             8.4488      0.908      9.309      0.000       6.665      10.233\n",
       "HighSchool     2.4415      0.908      2.690      0.007       0.658       4.225\n",
       "==============================================================================\n",
       "Omnibus:                        7.327   Durbin-Watson:                   1.625\n",
       "Prob(Omnibus):                  0.026   Jarque-Bera (JB):                7.530\n",
       "Skew:                          -0.313   Prob(JB):                       0.0232\n",
       "Kurtosis:                       2.845   Cond. No.                         1.34\n",
       "==============================================================================\n",
       "\n",
       "Warnings:\n",
       "[1] Standard Errors assume that the covariance matrix of the errors is correctly specified.\n",
       "\"\"\""
      ]
     },
     "execution_count": 32,
     "metadata": {},
     "output_type": "execute_result"
    }
   ],
   "source": [
    "model7 = smf.ols(formula='Score ~ IQ + HighSchool', data=X).fit()\n",
    "model7.summary()"
   ]
  },
  {
   "cell_type": "markdown",
   "metadata": {},
   "source": [
    "Model7 explains 21.4% change in Score, whereas Model1 explains 20.1% change in Score. Holding all else constant, 1 unit change in IQ leads to 8.45 unit increase in score. Completion in HighSchool leads to 2.44 unit increase in score. "
   ]
  },
  {
   "cell_type": "markdown",
   "metadata": {},
   "source": [
    "I'll also add interaction terms in my model. Starting from the most complex model. "
   ]
  },
  {
   "cell_type": "code",
   "execution_count": 33,
   "metadata": {},
   "outputs": [
    {
     "data": {
      "text/html": [
       "<table class=\"simpletable\">\n",
       "<caption>OLS Regression Results</caption>\n",
       "<tr>\n",
       "  <th>Dep. Variable:</th>          <td>Score</td>      <th>  R-squared:         </th> <td>   0.245</td>\n",
       "</tr>\n",
       "<tr>\n",
       "  <th>Model:</th>                   <td>OLS</td>       <th>  Adj. R-squared:    </th> <td>   0.227</td>\n",
       "</tr>\n",
       "<tr>\n",
       "  <th>Method:</th>             <td>Least Squares</td>  <th>  F-statistic:       </th> <td>   13.70</td>\n",
       "</tr>\n",
       "<tr>\n",
       "  <th>Date:</th>             <td>Sun, 22 Jan 2023</td> <th>  Prob (F-statistic):</th> <td>5.68e-21</td>\n",
       "</tr>\n",
       "<tr>\n",
       "  <th>Time:</th>                 <td>18:05:09</td>     <th>  Log-Likelihood:    </th> <td> -1863.4</td>\n",
       "</tr>\n",
       "<tr>\n",
       "  <th>No. Observations:</th>      <td>   434</td>      <th>  AIC:               </th> <td>   3749.</td>\n",
       "</tr>\n",
       "<tr>\n",
       "  <th>Df Residuals:</th>          <td>   423</td>      <th>  BIC:               </th> <td>   3794.</td>\n",
       "</tr>\n",
       "<tr>\n",
       "  <th>Df Model:</th>              <td>    10</td>      <th>                     </th>     <td> </td>   \n",
       "</tr>\n",
       "<tr>\n",
       "  <th>Covariance Type:</th>      <td>nonrobust</td>    <th>                     </th>     <td> </td>   \n",
       "</tr>\n",
       "</table>\n",
       "<table class=\"simpletable\">\n",
       "<tr>\n",
       "         <td></td>            <th>coef</th>     <th>std err</th>      <th>t</th>      <th>P>|t|</th>  <th>[0.025</th>    <th>0.975]</th>  \n",
       "</tr>\n",
       "<tr>\n",
       "  <th>Intercept</th>       <td>   87.4257</td> <td>    0.955</td> <td>   91.579</td> <td> 0.000</td> <td>   85.549</td> <td>   89.302</td>\n",
       "</tr>\n",
       "<tr>\n",
       "  <th>IQ</th>              <td>    8.7197</td> <td>    0.925</td> <td>    9.422</td> <td> 0.000</td> <td>    6.901</td> <td>   10.539</td>\n",
       "</tr>\n",
       "<tr>\n",
       "  <th>Age</th>             <td>    0.9722</td> <td>    0.899</td> <td>    1.082</td> <td> 0.280</td> <td>   -0.795</td> <td>    2.739</td>\n",
       "</tr>\n",
       "<tr>\n",
       "  <th>Work</th>            <td>   -0.0370</td> <td>    0.899</td> <td>   -0.041</td> <td> 0.967</td> <td>   -1.804</td> <td>    1.730</td>\n",
       "</tr>\n",
       "<tr>\n",
       "  <th>HighSchool</th>      <td>    1.2934</td> <td>    1.132</td> <td>    1.142</td> <td> 0.254</td> <td>   -0.932</td> <td>    3.519</td>\n",
       "</tr>\n",
       "<tr>\n",
       "  <th>IQ:Age</th>          <td>   -0.8377</td> <td>    0.917</td> <td>   -0.914</td> <td> 0.361</td> <td>   -2.639</td> <td>    0.964</td>\n",
       "</tr>\n",
       "<tr>\n",
       "  <th>IQ:Work</th>         <td>   -0.7054</td> <td>    0.929</td> <td>   -0.759</td> <td> 0.448</td> <td>   -2.531</td> <td>    1.121</td>\n",
       "</tr>\n",
       "<tr>\n",
       "  <th>IQ:HighSchool</th>   <td>   -2.2652</td> <td>    1.088</td> <td>   -2.082</td> <td> 0.038</td> <td>   -4.404</td> <td>   -0.127</td>\n",
       "</tr>\n",
       "<tr>\n",
       "  <th>Age:Work</th>        <td>    1.3131</td> <td>    0.933</td> <td>    1.407</td> <td> 0.160</td> <td>   -0.521</td> <td>    3.148</td>\n",
       "</tr>\n",
       "<tr>\n",
       "  <th>Age:HighSchool</th>  <td>    1.2473</td> <td>    0.960</td> <td>    1.299</td> <td> 0.195</td> <td>   -0.640</td> <td>    3.135</td>\n",
       "</tr>\n",
       "<tr>\n",
       "  <th>Work:HighSchool</th> <td>   -1.0868</td> <td>    0.913</td> <td>   -1.190</td> <td> 0.235</td> <td>   -2.881</td> <td>    0.708</td>\n",
       "</tr>\n",
       "</table>\n",
       "<table class=\"simpletable\">\n",
       "<tr>\n",
       "  <th>Omnibus:</th>       <td> 7.177</td> <th>  Durbin-Watson:     </th> <td>   1.664</td>\n",
       "</tr>\n",
       "<tr>\n",
       "  <th>Prob(Omnibus):</th> <td> 0.028</td> <th>  Jarque-Bera (JB):  </th> <td>   7.375</td>\n",
       "</tr>\n",
       "<tr>\n",
       "  <th>Skew:</th>          <td>-0.312</td> <th>  Prob(JB):          </th> <td>  0.0250</td>\n",
       "</tr>\n",
       "<tr>\n",
       "  <th>Kurtosis:</th>      <td> 2.863</td> <th>  Cond. No.          </th> <td>    2.77</td>\n",
       "</tr>\n",
       "</table><br/><br/>Warnings:<br/>[1] Standard Errors assume that the covariance matrix of the errors is correctly specified."
      ],
      "text/plain": [
       "<class 'statsmodels.iolib.summary.Summary'>\n",
       "\"\"\"\n",
       "                            OLS Regression Results                            \n",
       "==============================================================================\n",
       "Dep. Variable:                  Score   R-squared:                       0.245\n",
       "Model:                            OLS   Adj. R-squared:                  0.227\n",
       "Method:                 Least Squares   F-statistic:                     13.70\n",
       "Date:                Sun, 22 Jan 2023   Prob (F-statistic):           5.68e-21\n",
       "Time:                        18:05:09   Log-Likelihood:                -1863.4\n",
       "No. Observations:                 434   AIC:                             3749.\n",
       "Df Residuals:                     423   BIC:                             3794.\n",
       "Df Model:                          10                                         \n",
       "Covariance Type:            nonrobust                                         \n",
       "===================================================================================\n",
       "                      coef    std err          t      P>|t|      [0.025      0.975]\n",
       "-----------------------------------------------------------------------------------\n",
       "Intercept          87.4257      0.955     91.579      0.000      85.549      89.302\n",
       "IQ                  8.7197      0.925      9.422      0.000       6.901      10.539\n",
       "Age                 0.9722      0.899      1.082      0.280      -0.795       2.739\n",
       "Work               -0.0370      0.899     -0.041      0.967      -1.804       1.730\n",
       "HighSchool          1.2934      1.132      1.142      0.254      -0.932       3.519\n",
       "IQ:Age             -0.8377      0.917     -0.914      0.361      -2.639       0.964\n",
       "IQ:Work            -0.7054      0.929     -0.759      0.448      -2.531       1.121\n",
       "IQ:HighSchool      -2.2652      1.088     -2.082      0.038      -4.404      -0.127\n",
       "Age:Work            1.3131      0.933      1.407      0.160      -0.521       3.148\n",
       "Age:HighSchool      1.2473      0.960      1.299      0.195      -0.640       3.135\n",
       "Work:HighSchool    -1.0868      0.913     -1.190      0.235      -2.881       0.708\n",
       "==============================================================================\n",
       "Omnibus:                        7.177   Durbin-Watson:                   1.664\n",
       "Prob(Omnibus):                  0.028   Jarque-Bera (JB):                7.375\n",
       "Skew:                          -0.312   Prob(JB):                       0.0250\n",
       "Kurtosis:                       2.863   Cond. No.                         2.77\n",
       "==============================================================================\n",
       "\n",
       "Warnings:\n",
       "[1] Standard Errors assume that the covariance matrix of the errors is correctly specified.\n",
       "\"\"\""
      ]
     },
     "execution_count": 33,
     "metadata": {},
     "output_type": "execute_result"
    }
   ],
   "source": [
    "model8 = smf.ols(formula='Score ~ IQ + Age + Work + HighSchool + IQ*Age + IQ*Work + IQ*HighSchool + Age*Work + Age*HighSchool + Work*HighSchool', data=X).fit()\n",
    "model8.summary()"
   ]
  },
  {
   "cell_type": "markdown",
   "metadata": {},
   "source": [
    "Our R-Squared has improved to 24.5%. Age, Work, HighSchool, IQ*Age, IQ*Work, Age*Work, Age*HighSchool, and Work*HighSchool are insignificant. I will start from removing the most insignificant predictors. "
   ]
  },
  {
   "cell_type": "code",
   "execution_count": 34,
   "metadata": {},
   "outputs": [
    {
     "data": {
      "text/html": [
       "<table class=\"simpletable\">\n",
       "<caption>OLS Regression Results</caption>\n",
       "<tr>\n",
       "  <th>Dep. Variable:</th>          <td>Score</td>      <th>  R-squared:         </th> <td>   0.240</td>\n",
       "</tr>\n",
       "<tr>\n",
       "  <th>Model:</th>                   <td>OLS</td>       <th>  Adj. R-squared:    </th> <td>   0.227</td>\n",
       "</tr>\n",
       "<tr>\n",
       "  <th>Method:</th>             <td>Least Squares</td>  <th>  F-statistic:       </th> <td>   19.18</td>\n",
       "</tr>\n",
       "<tr>\n",
       "  <th>Date:</th>             <td>Sun, 22 Jan 2023</td> <th>  Prob (F-statistic):</th> <td>2.68e-22</td>\n",
       "</tr>\n",
       "<tr>\n",
       "  <th>Time:</th>                 <td>18:05:09</td>     <th>  Log-Likelihood:    </th> <td> -1864.8</td>\n",
       "</tr>\n",
       "<tr>\n",
       "  <th>No. Observations:</th>      <td>   434</td>      <th>  AIC:               </th> <td>   3746.</td>\n",
       "</tr>\n",
       "<tr>\n",
       "  <th>Df Residuals:</th>          <td>   426</td>      <th>  BIC:               </th> <td>   3778.</td>\n",
       "</tr>\n",
       "<tr>\n",
       "  <th>Df Model:</th>              <td>     7</td>      <th>                     </th>     <td> </td>   \n",
       "</tr>\n",
       "<tr>\n",
       "  <th>Covariance Type:</th>      <td>nonrobust</td>    <th>                     </th>     <td> </td>   \n",
       "</tr>\n",
       "</table>\n",
       "<table class=\"simpletable\">\n",
       "<tr>\n",
       "         <td></td>            <th>coef</th>     <th>std err</th>      <th>t</th>      <th>P>|t|</th>  <th>[0.025</th>    <th>0.975]</th>  \n",
       "</tr>\n",
       "<tr>\n",
       "  <th>Intercept</th>       <td>   87.7132</td> <td>    0.933</td> <td>   94.019</td> <td> 0.000</td> <td>   85.879</td> <td>   89.547</td>\n",
       "</tr>\n",
       "<tr>\n",
       "  <th>IQ</th>              <td>    8.7458</td> <td>    0.908</td> <td>    9.633</td> <td> 0.000</td> <td>    6.961</td> <td>   10.530</td>\n",
       "</tr>\n",
       "<tr>\n",
       "  <th>Age</th>             <td>    0.8836</td> <td>    0.894</td> <td>    0.989</td> <td> 0.323</td> <td>   -0.873</td> <td>    2.640</td>\n",
       "</tr>\n",
       "<tr>\n",
       "  <th>Work</th>            <td>    0.0234</td> <td>    0.898</td> <td>    0.026</td> <td> 0.979</td> <td>   -1.741</td> <td>    1.788</td>\n",
       "</tr>\n",
       "<tr>\n",
       "  <th>HighSchool</th>      <td>    0.7080</td> <td>    1.068</td> <td>    0.663</td> <td> 0.508</td> <td>   -1.391</td> <td>    2.807</td>\n",
       "</tr>\n",
       "<tr>\n",
       "  <th>IQ:HighSchool</th>   <td>   -2.8793</td> <td>    1.011</td> <td>   -2.848</td> <td> 0.005</td> <td>   -4.866</td> <td>   -0.892</td>\n",
       "</tr>\n",
       "<tr>\n",
       "  <th>Age:Work</th>        <td>    1.5241</td> <td>    0.879</td> <td>    1.734</td> <td> 0.084</td> <td>   -0.204</td> <td>    3.252</td>\n",
       "</tr>\n",
       "<tr>\n",
       "  <th>Work:HighSchool</th> <td>   -1.2152</td> <td>    0.868</td> <td>   -1.400</td> <td> 0.162</td> <td>   -2.922</td> <td>    0.491</td>\n",
       "</tr>\n",
       "</table>\n",
       "<table class=\"simpletable\">\n",
       "<tr>\n",
       "  <th>Omnibus:</th>       <td> 6.540</td> <th>  Durbin-Watson:     </th> <td>   1.659</td>\n",
       "</tr>\n",
       "<tr>\n",
       "  <th>Prob(Omnibus):</th> <td> 0.038</td> <th>  Jarque-Bera (JB):  </th> <td>   6.703</td>\n",
       "</tr>\n",
       "<tr>\n",
       "  <th>Skew:</th>          <td>-0.295</td> <th>  Prob(JB):          </th> <td>  0.0350</td>\n",
       "</tr>\n",
       "<tr>\n",
       "  <th>Kurtosis:</th>      <td> 2.846</td> <th>  Cond. No.          </th> <td>    2.26</td>\n",
       "</tr>\n",
       "</table><br/><br/>Warnings:<br/>[1] Standard Errors assume that the covariance matrix of the errors is correctly specified."
      ],
      "text/plain": [
       "<class 'statsmodels.iolib.summary.Summary'>\n",
       "\"\"\"\n",
       "                            OLS Regression Results                            \n",
       "==============================================================================\n",
       "Dep. Variable:                  Score   R-squared:                       0.240\n",
       "Model:                            OLS   Adj. R-squared:                  0.227\n",
       "Method:                 Least Squares   F-statistic:                     19.18\n",
       "Date:                Sun, 22 Jan 2023   Prob (F-statistic):           2.68e-22\n",
       "Time:                        18:05:09   Log-Likelihood:                -1864.8\n",
       "No. Observations:                 434   AIC:                             3746.\n",
       "Df Residuals:                     426   BIC:                             3778.\n",
       "Df Model:                           7                                         \n",
       "Covariance Type:            nonrobust                                         \n",
       "===================================================================================\n",
       "                      coef    std err          t      P>|t|      [0.025      0.975]\n",
       "-----------------------------------------------------------------------------------\n",
       "Intercept          87.7132      0.933     94.019      0.000      85.879      89.547\n",
       "IQ                  8.7458      0.908      9.633      0.000       6.961      10.530\n",
       "Age                 0.8836      0.894      0.989      0.323      -0.873       2.640\n",
       "Work                0.0234      0.898      0.026      0.979      -1.741       1.788\n",
       "HighSchool          0.7080      1.068      0.663      0.508      -1.391       2.807\n",
       "IQ:HighSchool      -2.8793      1.011     -2.848      0.005      -4.866      -0.892\n",
       "Age:Work            1.5241      0.879      1.734      0.084      -0.204       3.252\n",
       "Work:HighSchool    -1.2152      0.868     -1.400      0.162      -2.922       0.491\n",
       "==============================================================================\n",
       "Omnibus:                        6.540   Durbin-Watson:                   1.659\n",
       "Prob(Omnibus):                  0.038   Jarque-Bera (JB):                6.703\n",
       "Skew:                          -0.295   Prob(JB):                       0.0350\n",
       "Kurtosis:                       2.846   Cond. No.                         2.26\n",
       "==============================================================================\n",
       "\n",
       "Warnings:\n",
       "[1] Standard Errors assume that the covariance matrix of the errors is correctly specified.\n",
       "\"\"\""
      ]
     },
     "execution_count": 34,
     "metadata": {},
     "output_type": "execute_result"
    }
   ],
   "source": [
    "model9 = smf.ols(formula='Score ~ IQ + Age + Work + HighSchool  + IQ*HighSchool + Age*Work  + Work*HighSchool', data=X).fit()\n",
    "model9.summary()"
   ]
  },
  {
   "cell_type": "markdown",
   "metadata": {},
   "source": [
    "The result is Model9, which has, so far, the highest Adjusted R-Squared and the lowest AIC/BIC score. "
   ]
  },
  {
   "cell_type": "markdown",
   "metadata": {},
   "source": [
    "Conclusion: Mother's IQ is a dominant predictor in explaining a child's IQ score. Completion of high school also matters to a child's IQ score, but it may because mother with high IQ are more likely to finish high school. Work experience and Age doesn't matter that much."
   ]
  },
  {
   "cell_type": "code",
   "execution_count": null,
   "metadata": {},
   "outputs": [],
   "source": []
  }
 ],
 "metadata": {
  "kernelspec": {
   "display_name": "Python 3",
   "language": "python",
   "name": "python3"
  },
  "language_info": {
   "codemirror_mode": {
    "name": "ipython",
    "version": 3
   },
   "file_extension": ".py",
   "mimetype": "text/x-python",
   "name": "python",
   "nbconvert_exporter": "python",
   "pygments_lexer": "ipython3",
   "version": "3.8.3"
  }
 },
 "nbformat": 4,
 "nbformat_minor": 4
}
